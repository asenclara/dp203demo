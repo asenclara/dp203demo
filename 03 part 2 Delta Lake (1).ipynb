{
  "cells": [
    {
      "cell_type": "code",
      "source": [
        "df = spark.read.load('abfss://wwi-02@asadatalakevehn81y.dfs.core.windows.net/data/*.csv',\r\n",
        "    format='csv',\r\n",
        "    header=True\r\n",
        ")\r\n",
        "display(df.limit(10))"
      ],
      "outputs": [
        {
          "output_type": "display_data",
          "data": {
            "application/vnd.livy.statement-meta+json": {
              "spark_pool": "SparkPool03",
              "session_id": "2",
              "statement_id": 9,
              "state": "finished",
              "livy_statement_state": "available",
              "queued_time": "2023-02-13T22:17:29.4294679Z",
              "session_start_time": null,
              "execution_start_time": "2023-02-13T22:17:29.5828368Z",
              "execution_finish_time": "2023-02-13T22:17:30.7130401Z",
              "spark_jobs": null
            },
            "text/plain": "StatementMeta(SparkPool03, 2, 9, Finished, Available)"
          },
          "metadata": {}
        },
        {
          "output_type": "display_data",
          "data": {
            "application/vnd.synapse.widget-view+json": {
              "widget_id": "8160ef8f-5514-4273-a682-6072ade766db",
              "widget_type": "Synapse.DataFrame"
            },
            "text/plain": "SynapseWidget(Synapse.DataFrame, 8160ef8f-5514-4273-a682-6072ade766db)"
          },
          "metadata": {}
        }
      ],
      "execution_count": 9,
      "metadata": {
        "collapsed": false
      }
    },
    {
      "cell_type": "code",
      "source": [
        "display(df.where(df.CustomerName == 'Candice Sun'))"
      ],
      "outputs": [
        {
          "output_type": "display_data",
          "data": {
            "application/vnd.livy.statement-meta+json": {
              "spark_pool": "SparkPool03",
              "session_id": "2",
              "statement_id": 10,
              "state": "finished",
              "livy_statement_state": "available",
              "queued_time": "2023-02-13T22:17:36.4306654Z",
              "session_start_time": null,
              "execution_start_time": "2023-02-13T22:17:36.5609957Z",
              "execution_finish_time": "2023-02-13T22:17:37.6838495Z",
              "spark_jobs": null
            },
            "text/plain": "StatementMeta(SparkPool03, 2, 10, Finished, Available)"
          },
          "metadata": {}
        },
        {
          "output_type": "display_data",
          "data": {
            "application/vnd.synapse.widget-view+json": {
              "widget_id": "ffcdeaaf-66b8-4130-b477-14caeb828624",
              "widget_type": "Synapse.DataFrame"
            },
            "text/plain": "SynapseWidget(Synapse.DataFrame, ffcdeaaf-66b8-4130-b477-14caeb828624)"
          },
          "metadata": {}
        }
      ],
      "execution_count": 10,
      "metadata": {
        "jupyter": {
          "source_hidden": false,
          "outputs_hidden": false
        },
        "nteract": {
          "transient": {
            "deleting": false
          }
        },
        "collapsed": false
      }
    },
    {
      "cell_type": "markdown",
      "source": [
        "Create a delta lake from a dataframe:\r\n",
        "(Data Lake -> tempdata)"
      ],
      "metadata": {
        "nteract": {
          "transient": {
            "deleting": false
          }
        }
      }
    },
    {
      "cell_type": "code",
      "source": [
        "delta_table_path = \"/delta/mydata\"\r\n",
        "df.write.format(\"delta\").save(delta_table_path)"
      ],
      "outputs": [
        {
          "output_type": "display_data",
          "data": {
            "application/vnd.livy.statement-meta+json": {
              "spark_pool": "SparkPool03",
              "session_id": "2",
              "statement_id": 2,
              "state": "finished",
              "livy_statement_state": "available",
              "queued_time": "2023-02-13T22:11:57.7225048Z",
              "session_start_time": null,
              "execution_start_time": "2023-02-13T22:11:57.8379771Z",
              "execution_finish_time": "2023-02-13T22:12:14.7200294Z",
              "spark_jobs": null
            },
            "text/plain": "StatementMeta(SparkPool03, 2, 2, Finished, Available)"
          },
          "metadata": {}
        }
      ],
      "execution_count": 2,
      "metadata": {
        "jupyter": {
          "source_hidden": false,
          "outputs_hidden": false
        },
        "nteract": {
          "transient": {
            "deleting": false
          }
        }
      }
    },
    {
      "cell_type": "markdown",
      "source": [
        "Make conditional updates:"
      ],
      "metadata": {
        "nteract": {
          "transient": {
            "deleting": false
          }
        }
      }
    },
    {
      "cell_type": "code",
      "source": [
        "from delta.tables import *\r\n",
        "from pyspark.sql.functions import *"
      ],
      "outputs": [
        {
          "output_type": "display_data",
          "data": {
            "application/vnd.livy.statement-meta+json": {
              "spark_pool": "SparkPool03",
              "session_id": "2",
              "statement_id": 3,
              "state": "finished",
              "livy_statement_state": "available",
              "queued_time": "2023-02-13T22:12:52.6885965Z",
              "session_start_time": null,
              "execution_start_time": "2023-02-13T22:12:52.8146662Z",
              "execution_finish_time": "2023-02-13T22:12:52.9765687Z",
              "spark_jobs": null
            },
            "text/plain": "StatementMeta(SparkPool03, 2, 3, Finished, Available)"
          },
          "metadata": {}
        }
      ],
      "execution_count": 3,
      "metadata": {
        "jupyter": {
          "source_hidden": false,
          "outputs_hidden": false
        },
        "nteract": {
          "transient": {
            "deleting": false
          }
        }
      }
    },
    {
      "cell_type": "code",
      "source": [
        "deltaTable = DeltaTable.forPath(spark, delta_table_path)\r\n",
        "deltaTable.update(\r\n",
        "    condition = \"CustomerName == 'Candice Sun'\",\r\n",
        "    set = { \"TaxAmount\": \"TaxAmount * 1.5\" })"
      ],
      "outputs": [
        {
          "output_type": "display_data",
          "data": {
            "application/vnd.livy.statement-meta+json": {
              "spark_pool": "SparkPool03",
              "session_id": "2",
              "statement_id": 5,
              "state": "finished",
              "livy_statement_state": "available",
              "queued_time": "2023-02-13T22:16:06.6546909Z",
              "session_start_time": null,
              "execution_start_time": "2023-02-13T22:16:06.8078404Z",
              "execution_finish_time": "2023-02-13T22:16:15.6194709Z",
              "spark_jobs": null
            },
            "text/plain": "StatementMeta(SparkPool03, 2, 5, Finished, Available)"
          },
          "metadata": {}
        }
      ],
      "execution_count": 5,
      "metadata": {
        "jupyter": {
          "source_hidden": false,
          "outputs_hidden": false
        },
        "nteract": {
          "transient": {
            "deleting": false
          }
        }
      }
    },
    {
      "cell_type": "markdown",
      "source": [
        "Time travel:"
      ],
      "metadata": {
        "nteract": {
          "transient": {
            "deleting": false
          }
        }
      }
    },
    {
      "cell_type": "code",
      "source": [
        "df = spark.read.format(\"delta\").option(\"versionAsOf\", 0).load(delta_table_path)"
      ],
      "outputs": [
        {
          "output_type": "display_data",
          "data": {
            "application/vnd.livy.statement-meta+json": {
              "spark_pool": "SparkPool03",
              "session_id": "2",
              "statement_id": 7,
              "state": "finished",
              "livy_statement_state": "available",
              "queued_time": "2023-02-13T22:17:07.720234Z",
              "session_start_time": null,
              "execution_start_time": "2023-02-13T22:17:07.8561523Z",
              "execution_finish_time": "2023-02-13T22:17:10.7191756Z",
              "spark_jobs": null
            },
            "text/plain": "StatementMeta(SparkPool03, 2, 7, Finished, Available)"
          },
          "metadata": {}
        }
      ],
      "execution_count": 7,
      "metadata": {
        "jupyter": {
          "source_hidden": false,
          "outputs_hidden": false
        },
        "nteract": {
          "transient": {
            "deleting": false
          }
        }
      }
    },
    {
      "cell_type": "code",
      "source": [
        "display(df.where(df.CustomerName == 'Candice Sun'))"
      ],
      "outputs": [
        {
          "output_type": "display_data",
          "data": {
            "application/vnd.livy.statement-meta+json": {
              "spark_pool": "SparkPool03",
              "session_id": "2",
              "statement_id": 11,
              "state": "finished",
              "livy_statement_state": "available",
              "queued_time": "2023-02-13T22:17:45.0706835Z",
              "session_start_time": null,
              "execution_start_time": "2023-02-13T22:17:45.1851447Z",
              "execution_finish_time": "2023-02-13T22:17:46.2950658Z",
              "spark_jobs": null
            },
            "text/plain": "StatementMeta(SparkPool03, 2, 11, Finished, Available)"
          },
          "metadata": {}
        },
        {
          "output_type": "display_data",
          "data": {
            "application/vnd.synapse.widget-view+json": {
              "widget_id": "1bbd0f3a-8430-4de1-bf82-177a3c6d3685",
              "widget_type": "Synapse.DataFrame"
            },
            "text/plain": "SynapseWidget(Synapse.DataFrame, 1bbd0f3a-8430-4de1-bf82-177a3c6d3685)"
          },
          "metadata": {}
        }
      ],
      "execution_count": 11,
      "metadata": {
        "jupyter": {
          "source_hidden": false,
          "outputs_hidden": false
        },
        "nteract": {
          "transient": {
            "deleting": false
          }
        },
        "collapsed": false
      }
    },
    {
      "cell_type": "code",
      "source": [
        "df = spark.read.format(\"delta\").option(\"versionAsOf\", 1).load(delta_table_path)"
      ],
      "outputs": [
        {
          "output_type": "display_data",
          "data": {
            "application/vnd.livy.statement-meta+json": {
              "spark_pool": "SparkPool03",
              "session_id": "2",
              "statement_id": 12,
              "state": "finished",
              "livy_statement_state": "available",
              "queued_time": "2023-02-13T22:17:55.8826204Z",
              "session_start_time": null,
              "execution_start_time": "2023-02-13T22:17:56.0128222Z",
              "execution_finish_time": "2023-02-13T22:17:56.1813411Z",
              "spark_jobs": null
            },
            "text/plain": "StatementMeta(SparkPool03, 2, 12, Finished, Available)"
          },
          "metadata": {}
        }
      ],
      "execution_count": 12,
      "metadata": {
        "jupyter": {
          "source_hidden": false,
          "outputs_hidden": false
        },
        "nteract": {
          "transient": {
            "deleting": false
          }
        }
      }
    },
    {
      "cell_type": "code",
      "source": [
        "display(df.where(df.CustomerName == 'Candice Sun'))"
      ],
      "outputs": [
        {
          "output_type": "display_data",
          "data": {
            "application/vnd.livy.statement-meta+json": {
              "spark_pool": "SparkPool03",
              "session_id": "2",
              "statement_id": 13,
              "state": "finished",
              "livy_statement_state": "available",
              "queued_time": "2023-02-13T22:18:02.0181946Z",
              "session_start_time": null,
              "execution_start_time": "2023-02-13T22:18:02.1426307Z",
              "execution_finish_time": "2023-02-13T22:18:04.0377778Z",
              "spark_jobs": null
            },
            "text/plain": "StatementMeta(SparkPool03, 2, 13, Finished, Available)"
          },
          "metadata": {}
        },
        {
          "output_type": "display_data",
          "data": {
            "application/vnd.synapse.widget-view+json": {
              "widget_id": "571e5179-3e4b-4a90-9dee-48943cff4648",
              "widget_type": "Synapse.DataFrame"
            },
            "text/plain": "SynapseWidget(Synapse.DataFrame, 571e5179-3e4b-4a90-9dee-48943cff4648)"
          },
          "metadata": {}
        }
      ],
      "execution_count": 13,
      "metadata": {
        "jupyter": {
          "source_hidden": false,
          "outputs_hidden": false
        },
        "nteract": {
          "transient": {
            "deleting": false
          }
        },
        "collapsed": false
      }
    },
    {
      "cell_type": "markdown",
      "source": [
        "Create Catalog tables (default storage -> Data Lake)\r\n",
        "- Managed tables: No specific location, dropping the table deletes the files\r\n",
        "- External tables: Defined with specific location, dropping the table does not delete the files"
      ],
      "metadata": {
        "nteract": {
          "transient": {
            "deleting": false
          }
        }
      }
    },
    {
      "cell_type": "code",
      "source": [
        "# Save a dataframe as a managed table\r\n",
        "df.write.format(\"delta\").saveAsTable(\"MyManagedTable\")\r\n",
        "\r\n",
        "## specify a path option to save as an external table\r\n",
        "df.write.format(\"delta\").option(\"path\", \"/mydata\").saveAsTable(\"MyExternalTable\")"
      ],
      "outputs": [
        {
          "output_type": "display_data",
          "data": {
            "application/vnd.livy.statement-meta+json": {
              "spark_pool": "SparkPool03",
              "session_id": "2",
              "statement_id": 14,
              "state": "finished",
              "livy_statement_state": "available",
              "queued_time": "2023-02-13T22:20:52.8183843Z",
              "session_start_time": null,
              "execution_start_time": "2023-02-13T22:20:52.9595957Z",
              "execution_finish_time": "2023-02-13T22:21:20.351915Z",
              "spark_jobs": null
            },
            "text/plain": "StatementMeta(SparkPool03, 2, 14, Finished, Available)"
          },
          "metadata": {}
        }
      ],
      "execution_count": 14,
      "metadata": {
        "jupyter": {
          "source_hidden": false,
          "outputs_hidden": false
        },
        "nteract": {
          "transient": {
            "deleting": false
          }
        }
      }
    },
    {
      "cell_type": "markdown",
      "source": [
        "We can now query the external table with the Serverless SQL Pool..."
      ],
      "metadata": {
        "nteract": {
          "transient": {
            "deleting": false
          }
        }
      }
    },
    {
      "cell_type": "code",
      "source": [],
      "outputs": [],
      "execution_count": null,
      "metadata": {
        "jupyter": {
          "source_hidden": false,
          "outputs_hidden": false
        },
        "nteract": {
          "transient": {
            "deleting": false
          }
        }
      }
    }
  ],
  "metadata": {
    "kernelspec": {
      "name": "synapse_pyspark",
      "display_name": "Synapse PySpark"
    },
    "language_info": {
      "name": "python"
    },
    "description": null,
    "save_output": true,
    "synapse_widget": {
      "version": "0.1",
      "state": {
        "8160ef8f-5514-4273-a682-6072ade766db": {
          "type": "Synapse.DataFrame",
          "sync_state": {
            "table": {
              "rows": [
                {
                  "0": "SO45347",
                  "1": "1",
                  "2": "2020-01-01",
                  "3": "Clarence Raji",
                  "4": "clarence35@adventure-works.com",
                  "5": "Road-650 Black, 52",
                  "6": "1",
                  "7": "699.0982",
                  "8": "55.9279"
                },
                {
                  "0": "SO45345",
                  "1": "1",
                  "2": "2020-01-01",
                  "3": "Bonnie Yuan",
                  "4": "bonnie12@adventure-works.com",
                  "5": "Road-150 Red, 52",
                  "6": "1",
                  "7": "3578.27",
                  "8": "286.2616"
                },
                {
                  "0": "SO45348",
                  "1": "1",
                  "2": "2020-01-01",
                  "3": "Leah Guo",
                  "4": "leah14@adventure-works.com",
                  "5": "Road-150 Red, 44",
                  "6": "1",
                  "7": "3578.27",
                  "8": "286.2616"
                },
                {
                  "0": "SO45349",
                  "1": "1",
                  "2": "2020-01-01",
                  "3": "Candice Sun",
                  "4": "candice19@adventure-works.com",
                  "5": "Road-150 Red, 48",
                  "6": "1",
                  "7": "3578.27",
                  "8": "286.2616"
                },
                {
                  "0": "SO45350",
                  "1": "1",
                  "2": "2020-01-01",
                  "3": "Ruben Garcia",
                  "4": "ruben16@adventure-works.com",
                  "5": "Road-150 Red, 44",
                  "6": "1",
                  "7": "3578.27",
                  "8": "286.2616"
                },
                {
                  "0": "SO45346",
                  "1": "1",
                  "2": "2020-01-01",
                  "3": "Dylan Harris",
                  "4": "dylan43@adventure-works.com",
                  "5": "Road-150 Red, 48",
                  "6": "1",
                  "7": "3578.27",
                  "8": "286.2616"
                },
                {
                  "0": "SO45353",
                  "1": "1",
                  "2": "2020-01-02",
                  "3": "Jack Zimmerman",
                  "4": "jack24@adventure-works.com",
                  "5": "Road-150 Red, 62",
                  "6": "1",
                  "7": "3578.27",
                  "8": "286.2616"
                },
                {
                  "0": "SO45355",
                  "1": "1",
                  "2": "2020-01-02",
                  "3": "Maurice Sharma",
                  "4": "maurice10@adventure-works.com",
                  "5": "Road-150 Red, 48",
                  "6": "1",
                  "7": "3578.27",
                  "8": "286.2616"
                },
                {
                  "0": "SO45354",
                  "1": "1",
                  "2": "2020-01-02",
                  "3": "Armando Dominguez",
                  "4": "armando13@adventure-works.com",
                  "5": "Road-650 Black, 48",
                  "6": "1",
                  "7": "699.0982",
                  "8": "55.9279"
                },
                {
                  "0": "SO45356",
                  "1": "1",
                  "2": "2020-01-02",
                  "3": "Douglas Suri",
                  "4": "douglas4@adventure-works.com",
                  "5": "Road-150 Red, 52",
                  "6": "1",
                  "7": "3578.27",
                  "8": "286.2616"
                }
              ],
              "schema": [
                {
                  "key": "0",
                  "name": "SalesOrderNumber",
                  "type": "string"
                },
                {
                  "key": "1",
                  "name": "SalesOrderLineNumber",
                  "type": "string"
                },
                {
                  "key": "2",
                  "name": "OrderDate",
                  "type": "string"
                },
                {
                  "key": "3",
                  "name": "CustomerName",
                  "type": "string"
                },
                {
                  "key": "4",
                  "name": "EmailAddress",
                  "type": "string"
                },
                {
                  "key": "5",
                  "name": "Item",
                  "type": "string"
                },
                {
                  "key": "6",
                  "name": "Quantity",
                  "type": "string"
                },
                {
                  "key": "7",
                  "name": "UnitPrice",
                  "type": "string"
                },
                {
                  "key": "8",
                  "name": "TaxAmount",
                  "type": "string"
                }
              ],
              "truncated": false
            },
            "isSummary": false,
            "language": "scala"
          },
          "persist_state": {
            "view": {
              "type": "details",
              "tableOptions": {},
              "chartOptions": {
                "chartType": "bar",
                "aggregationType": "count",
                "categoryFieldKeys": [
                  "0"
                ],
                "seriesFieldKeys": [
                  "0"
                ],
                "isStacked": false
              }
            }
          }
        },
        "ffcdeaaf-66b8-4130-b477-14caeb828624": {
          "type": "Synapse.DataFrame",
          "sync_state": {
            "table": {
              "rows": [
                {
                  "0": "SO56843",
                  "1": "1",
                  "2": "2021-09-27",
                  "3": "Candice Sun",
                  "4": "candice19@adventure-works.com",
                  "5": "Road-250 Red, 58",
                  "6": "1",
                  "7": "2443.35",
                  "8": "195.468"
                },
                {
                  "0": "SO56843",
                  "1": "2",
                  "2": "2021-09-27",
                  "3": "Candice Sun",
                  "4": "candice19@adventure-works.com",
                  "5": "HL Road Tire",
                  "6": "1",
                  "7": "32.60",
                  "8": "2.608"
                },
                {
                  "0": "SO56843",
                  "1": "3",
                  "2": "2021-09-27",
                  "3": "Candice Sun",
                  "4": "candice19@adventure-works.com",
                  "5": "Road Tire Tube",
                  "6": "1",
                  "7": "3.99",
                  "8": "0.3192"
                },
                {
                  "0": "SO56843",
                  "1": "4",
                  "2": "2021-09-27",
                  "3": "Candice Sun",
                  "4": "candice19@adventure-works.com",
                  "5": "Patch Kit/8 Patches",
                  "6": "1",
                  "7": "2.29",
                  "8": "0.1832"
                },
                {
                  "0": "SO45349",
                  "1": "1",
                  "2": "2020-01-01",
                  "3": "Candice Sun",
                  "4": "candice19@adventure-works.com",
                  "5": "Road-150 Red, 48",
                  "6": "1",
                  "7": "3578.27",
                  "8": "286.2616"
                }
              ],
              "schema": [
                {
                  "key": "0",
                  "name": "SalesOrderNumber",
                  "type": "string"
                },
                {
                  "key": "1",
                  "name": "SalesOrderLineNumber",
                  "type": "string"
                },
                {
                  "key": "2",
                  "name": "OrderDate",
                  "type": "string"
                },
                {
                  "key": "3",
                  "name": "CustomerName",
                  "type": "string"
                },
                {
                  "key": "4",
                  "name": "EmailAddress",
                  "type": "string"
                },
                {
                  "key": "5",
                  "name": "Item",
                  "type": "string"
                },
                {
                  "key": "6",
                  "name": "Quantity",
                  "type": "string"
                },
                {
                  "key": "7",
                  "name": "UnitPrice",
                  "type": "string"
                },
                {
                  "key": "8",
                  "name": "TaxAmount",
                  "type": "string"
                }
              ],
              "truncated": false
            },
            "isSummary": false,
            "language": "scala"
          },
          "persist_state": {
            "view": {
              "type": "details",
              "tableOptions": {},
              "chartOptions": {
                "chartType": "bar",
                "aggregationType": "count",
                "categoryFieldKeys": [
                  "0"
                ],
                "seriesFieldKeys": [
                  "0"
                ],
                "isStacked": false
              }
            }
          }
        },
        "1bbd0f3a-8430-4de1-bf82-177a3c6d3685": {
          "type": "Synapse.DataFrame",
          "sync_state": {
            "table": {
              "rows": [
                {
                  "0": "SO56843",
                  "1": "1",
                  "2": "2021-09-27",
                  "3": "Candice Sun",
                  "4": "candice19@adventure-works.com",
                  "5": "Road-250 Red, 58",
                  "6": "1",
                  "7": "2443.35",
                  "8": "195.468"
                },
                {
                  "0": "SO56843",
                  "1": "2",
                  "2": "2021-09-27",
                  "3": "Candice Sun",
                  "4": "candice19@adventure-works.com",
                  "5": "HL Road Tire",
                  "6": "1",
                  "7": "32.60",
                  "8": "2.608"
                },
                {
                  "0": "SO56843",
                  "1": "3",
                  "2": "2021-09-27",
                  "3": "Candice Sun",
                  "4": "candice19@adventure-works.com",
                  "5": "Road Tire Tube",
                  "6": "1",
                  "7": "3.99",
                  "8": "0.3192"
                },
                {
                  "0": "SO56843",
                  "1": "4",
                  "2": "2021-09-27",
                  "3": "Candice Sun",
                  "4": "candice19@adventure-works.com",
                  "5": "Patch Kit/8 Patches",
                  "6": "1",
                  "7": "2.29",
                  "8": "0.1832"
                },
                {
                  "0": "SO45349",
                  "1": "1",
                  "2": "2020-01-01",
                  "3": "Candice Sun",
                  "4": "candice19@adventure-works.com",
                  "5": "Road-150 Red, 48",
                  "6": "1",
                  "7": "3578.27",
                  "8": "286.2616"
                }
              ],
              "schema": [
                {
                  "key": "0",
                  "name": "SalesOrderNumber",
                  "type": "string"
                },
                {
                  "key": "1",
                  "name": "SalesOrderLineNumber",
                  "type": "string"
                },
                {
                  "key": "2",
                  "name": "OrderDate",
                  "type": "string"
                },
                {
                  "key": "3",
                  "name": "CustomerName",
                  "type": "string"
                },
                {
                  "key": "4",
                  "name": "EmailAddress",
                  "type": "string"
                },
                {
                  "key": "5",
                  "name": "Item",
                  "type": "string"
                },
                {
                  "key": "6",
                  "name": "Quantity",
                  "type": "string"
                },
                {
                  "key": "7",
                  "name": "UnitPrice",
                  "type": "string"
                },
                {
                  "key": "8",
                  "name": "TaxAmount",
                  "type": "string"
                }
              ],
              "truncated": false
            },
            "isSummary": false,
            "language": "scala"
          },
          "persist_state": {
            "view": {
              "type": "details",
              "tableOptions": {},
              "chartOptions": {
                "chartType": "bar",
                "aggregationType": "count",
                "categoryFieldKeys": [
                  "0"
                ],
                "seriesFieldKeys": [
                  "0"
                ],
                "isStacked": false
              }
            }
          }
        },
        "571e5179-3e4b-4a90-9dee-48943cff4648": {
          "type": "Synapse.DataFrame",
          "sync_state": {
            "table": {
              "rows": [
                {
                  "0": "SO56843",
                  "1": "1",
                  "2": "2021-09-27",
                  "3": "Candice Sun",
                  "4": "candice19@adventure-works.com",
                  "5": "Road-250 Red, 58",
                  "6": "1",
                  "7": "2443.35",
                  "8": "293.202"
                },
                {
                  "0": "SO56843",
                  "1": "2",
                  "2": "2021-09-27",
                  "3": "Candice Sun",
                  "4": "candice19@adventure-works.com",
                  "5": "HL Road Tire",
                  "6": "1",
                  "7": "32.60",
                  "8": "3.912"
                },
                {
                  "0": "SO56843",
                  "1": "3",
                  "2": "2021-09-27",
                  "3": "Candice Sun",
                  "4": "candice19@adventure-works.com",
                  "5": "Road Tire Tube",
                  "6": "1",
                  "7": "3.99",
                  "8": "0.4788"
                },
                {
                  "0": "SO56843",
                  "1": "4",
                  "2": "2021-09-27",
                  "3": "Candice Sun",
                  "4": "candice19@adventure-works.com",
                  "5": "Patch Kit/8 Patches",
                  "6": "1",
                  "7": "2.29",
                  "8": "0.2748"
                },
                {
                  "0": "SO45349",
                  "1": "1",
                  "2": "2020-01-01",
                  "3": "Candice Sun",
                  "4": "candice19@adventure-works.com",
                  "5": "Road-150 Red, 48",
                  "6": "1",
                  "7": "3578.27",
                  "8": "429.39239999999995"
                }
              ],
              "schema": [
                {
                  "key": "0",
                  "name": "SalesOrderNumber",
                  "type": "string"
                },
                {
                  "key": "1",
                  "name": "SalesOrderLineNumber",
                  "type": "string"
                },
                {
                  "key": "2",
                  "name": "OrderDate",
                  "type": "string"
                },
                {
                  "key": "3",
                  "name": "CustomerName",
                  "type": "string"
                },
                {
                  "key": "4",
                  "name": "EmailAddress",
                  "type": "string"
                },
                {
                  "key": "5",
                  "name": "Item",
                  "type": "string"
                },
                {
                  "key": "6",
                  "name": "Quantity",
                  "type": "string"
                },
                {
                  "key": "7",
                  "name": "UnitPrice",
                  "type": "string"
                },
                {
                  "key": "8",
                  "name": "TaxAmount",
                  "type": "string"
                }
              ],
              "truncated": false
            },
            "isSummary": false,
            "language": "scala"
          },
          "persist_state": {
            "view": {
              "type": "details",
              "tableOptions": {},
              "chartOptions": {
                "chartType": "bar",
                "aggregationType": "count",
                "categoryFieldKeys": [
                  "0"
                ],
                "seriesFieldKeys": [
                  "0"
                ],
                "isStacked": false
              }
            }
          }
        }
      }
    }
  },
  "nbformat": 4,
  "nbformat_minor": 2
}
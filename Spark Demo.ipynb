{
  "nbformat": 4,
  "nbformat_minor": 2,
  "metadata": {
    "kernelspec": {
      "name": "synapse_pyspark",
      "display_name": "Synapse PySpark"
    },
    "language_info": {
      "name": "python"
    },
    "description": null,
    "save_output": true,
    "synapse_widget": {
      "version": "0.1",
      "state": {
        "27afba8e-8a9c-41dd-be8b-3ea6ecc8e9e0": {
          "type": "Synapse.DataFrame",
          "sync_state": {
            "table": {
              "rows": [
                {
                  "0": "e067fc11-e07d-4517-bc93-f7dc4b44f35e",
                  "1": "3",
                  "2": "4581",
                  "3": "4",
                  "4": "20.84",
                  "5": "91.696",
                  "6": "20170501",
                  "7": "26.048",
                  "8": "2",
                  "9": "30",
                  "10": "7922"
                },
                {
                  "0": "e067fc11-e07d-4517-bc93-f7dc4b44f35e",
                  "1": "3",
                  "2": "1365",
                  "3": "4",
                  "4": "26.52",
                  "5": "116.688",
                  "6": "20170501",
                  "7": "29.436",
                  "8": "2",
                  "9": "30",
                  "10": "7922"
                },
                {
                  "0": "e067fc11-e07d-4517-bc93-f7dc4b44f35e",
                  "1": "3",
                  "2": "2641",
                  "3": "4",
                  "4": "29.71",
                  "5": "130.724",
                  "6": "20170501",
                  "7": "37.4",
                  "8": "2",
                  "9": "30",
                  "10": "7922"
                }
              ],
              "schema": [
                {
                  "key": "0",
                  "name": "TransactionId",
                  "type": "string"
                },
                {
                  "key": "1",
                  "name": "CustomerId",
                  "type": "string"
                },
                {
                  "key": "2",
                  "name": "ProductId",
                  "type": "string"
                },
                {
                  "key": "3",
                  "name": "Quantity",
                  "type": "string"
                },
                {
                  "key": "4",
                  "name": "Price",
                  "type": "string"
                },
                {
                  "key": "5",
                  "name": "TotalAmount",
                  "type": "string"
                },
                {
                  "key": "6",
                  "name": "TransactionDate",
                  "type": "string"
                },
                {
                  "key": "7",
                  "name": "ProfitAmount",
                  "type": "string"
                },
                {
                  "key": "8",
                  "name": "Hour",
                  "type": "string"
                },
                {
                  "key": "9",
                  "name": "Minute",
                  "type": "string"
                },
                {
                  "key": "10",
                  "name": "StoreId",
                  "type": "string"
                }
              ],
              "truncated": false
            },
            "isSummary": false,
            "language": "scala"
          },
          "persist_state": {
            "view": {
              "type": "details",
              "tableOptions": {},
              "chartOptions": {
                "chartType": "bar",
                "aggregationType": "count",
                "categoryFieldKeys": [
                  "0"
                ],
                "seriesFieldKeys": [
                  "0"
                ],
                "isStacked": false
              }
            }
          }
        }
      }
    }
  },
  "cells": [
    {
      "cell_type": "code",
      "execution_count": 1,
      "outputs": [
        {
          "output_type": "display_data",
          "data": {
            "application/vnd.livy.statement-meta+json": {
              "spark_pool": "SparkPool01",
              "session_id": "7",
              "statement_id": 1,
              "state": "finished",
              "livy_statement_state": "available",
              "queued_time": "2023-01-16T14:03:59.3117856Z",
              "session_start_time": "2023-01-16T14:03:59.3552208Z",
              "execution_start_time": "2023-01-16T14:07:29.7784675Z",
              "execution_finish_time": "2023-01-16T14:07:53.0556744Z",
              "spark_jobs": null
            },
            "text/plain": "StatementMeta(SparkPool01, 7, 1, Finished, Available)"
          },
          "metadata": {}
        }
      ],
      "metadata": {
        "jupyter": {
          "source_hidden": false,
          "outputs_hidden": false
        },
        "nteract": {
          "transient": {
            "deleting": false
          }
        },
        "microsoft": {},
        "collapsed": false
      },
      "source": [
        "df = spark.read.load('abfss://wwi-02@asadatalakevehn81y.dfs.core.windows.net/sale-poc/sale-20170501.csv', \r\n",
        "    format='csv',\r\n",
        "    header = True)"
      ]
    },
    {
      "cell_type": "code",
      "execution_count": 5,
      "outputs": [
        {
          "output_type": "display_data",
          "data": {
            "application/vnd.livy.statement-meta+json": {
              "spark_pool": "SparkPool01",
              "session_id": "7",
              "statement_id": 5,
              "state": "finished",
              "livy_statement_state": "available",
              "queued_time": "2023-01-16T14:17:34.5051002Z",
              "session_start_time": null,
              "execution_start_time": "2023-01-16T14:17:34.6213648Z",
              "execution_finish_time": "2023-01-16T14:17:35.1888141Z",
              "spark_jobs": null
            },
            "text/plain": "StatementMeta(SparkPool01, 7, 5, Finished, Available)"
          },
          "metadata": {}
        },
        {
          "output_type": "stream",
          "name": "stdout",
          "text": [
            "+--------------------+----------+---------+--------+-----+-----------+---------------+------------+----+------+-------+\n|       TransactionId|CustomerId|ProductId|Quantity|Price|TotalAmount|TransactionDate|ProfitAmount|Hour|Minute|StoreId|\n+--------------------+----------+---------+--------+-----+-----------+---------------+------------+----+------+-------+\n|e067fc11-e07d-451...|         3|     4581|       4|20.84|     91.696|       20170501|      26.048|   2|    30|   7922|\n|e067fc11-e07d-451...|         3|     1365|       4|26.52|    116.688|       20170501|      29.436|   2|    30|   7922|\n|e067fc11-e07d-451...|         3|     2641|       4|29.71|    130.724|       20170501|        37.4|   2|    30|   7922|\n+--------------------+----------+---------+--------+-----+-----------+---------------+------------+----+------+-------+\nonly showing top 3 rows\n\n"
          ]
        }
      ],
      "metadata": {
        "jupyter": {
          "source_hidden": false,
          "outputs_hidden": false
        },
        "nteract": {
          "transient": {
            "deleting": false
          }
        }
      },
      "source": [
        "df.show(3)"
      ]
    },
    {
      "cell_type": "code",
      "execution_count": 6,
      "outputs": [
        {
          "output_type": "display_data",
          "data": {
            "application/vnd.livy.statement-meta+json": {
              "spark_pool": "SparkPool01",
              "session_id": "7",
              "statement_id": 6,
              "state": "finished",
              "livy_statement_state": "available",
              "queued_time": "2023-01-16T14:18:00.0500627Z",
              "session_start_time": null,
              "execution_start_time": "2023-01-16T14:18:00.1698051Z",
              "execution_finish_time": "2023-01-16T14:18:03.0720967Z",
              "spark_jobs": null
            },
            "text/plain": "StatementMeta(SparkPool01, 7, 6, Finished, Available)"
          },
          "metadata": {}
        },
        {
          "output_type": "display_data",
          "data": {
            "application/vnd.synapse.widget-view+json": {
              "widget_id": "27afba8e-8a9c-41dd-be8b-3ea6ecc8e9e0",
              "widget_type": "Synapse.DataFrame"
            },
            "text/plain": "SynapseWidget(Synapse.DataFrame, 27afba8e-8a9c-41dd-be8b-3ea6ecc8e9e0)"
          },
          "metadata": {}
        }
      ],
      "metadata": {
        "jupyter": {
          "source_hidden": false,
          "outputs_hidden": false
        },
        "nteract": {
          "transient": {
            "deleting": false
          }
        },
        "collapsed": false
      },
      "source": [
        "display(df.limit(3))"
      ]
    },
    {
      "cell_type": "code",
      "execution_count": 7,
      "outputs": [
        {
          "output_type": "display_data",
          "data": {
            "application/vnd.livy.statement-meta+json": {
              "spark_pool": "SparkPool01",
              "session_id": "7",
              "statement_id": 7,
              "state": "finished",
              "livy_statement_state": "available",
              "queued_time": "2023-01-16T14:18:38.3933759Z",
              "session_start_time": null,
              "execution_start_time": "2023-01-16T14:18:38.5248788Z",
              "execution_finish_time": "2023-01-16T14:18:39.1133631Z",
              "spark_jobs": null
            },
            "text/plain": "StatementMeta(SparkPool01, 7, 7, Finished, Available)"
          },
          "metadata": {}
        },
        {
          "output_type": "stream",
          "name": "stdout",
          "text": [
            "+--------------------+---------+\n|       TransactionId|ProductId|\n+--------------------+---------+\n|e067fc11-e07d-451...|     4581|\n|e067fc11-e07d-451...|     1365|\n|e067fc11-e07d-451...|     2641|\n|e067fc11-e07d-451...|      220|\n|e067fc11-e07d-451...|      110|\n+--------------------+---------+\nonly showing top 5 rows\n\n"
          ]
        }
      ],
      "metadata": {
        "jupyter": {
          "source_hidden": false,
          "outputs_hidden": false
        },
        "nteract": {
          "transient": {
            "deleting": false
          }
        }
      },
      "source": [
        "transaction_df = df.select(\"TransactionId\", \"ProductId\")\r\n",
        "transaction_df.show(5)"
      ]
    },
    {
      "cell_type": "code",
      "execution_count": 8,
      "outputs": [
        {
          "output_type": "display_data",
          "data": {
            "application/vnd.livy.statement-meta+json": {
              "spark_pool": "SparkPool01",
              "session_id": "7",
              "statement_id": 8,
              "state": "finished",
              "livy_statement_state": "available",
              "queued_time": "2023-01-16T14:20:02.6622911Z",
              "session_start_time": null,
              "execution_start_time": "2023-01-16T14:20:02.7846589Z",
              "execution_finish_time": "2023-01-16T14:20:02.9844818Z",
              "spark_jobs": null
            },
            "text/plain": "StatementMeta(SparkPool01, 7, 8, Finished, Available)"
          },
          "metadata": {}
        }
      ],
      "metadata": {
        "jupyter": {
          "source_hidden": false,
          "outputs_hidden": false
        },
        "nteract": {
          "transient": {
            "deleting": false
          }
        }
      },
      "source": [
        "product_4581 = df.select(\"TransactionId\", \"ProductId\") \\\r\n",
        "    .where((df[\"ProductId\"]==\"4581\"))"
      ]
    },
    {
      "cell_type": "code",
      "execution_count": 9,
      "outputs": [
        {
          "output_type": "display_data",
          "data": {
            "application/vnd.livy.statement-meta+json": {
              "spark_pool": "SparkPool01",
              "session_id": "7",
              "statement_id": 9,
              "state": "finished",
              "livy_statement_state": "available",
              "queued_time": "2023-01-16T14:20:05.2071819Z",
              "session_start_time": null,
              "execution_start_time": "2023-01-16T14:20:05.323857Z",
              "execution_finish_time": "2023-01-16T14:20:06.4654703Z",
              "spark_jobs": null
            },
            "text/plain": "StatementMeta(SparkPool01, 7, 9, Finished, Available)"
          },
          "metadata": {}
        },
        {
          "output_type": "stream",
          "name": "stdout",
          "text": [
            "+--------------------+---------+\n|       TransactionId|ProductId|\n+--------------------+---------+\n|e067fc11-e07d-451...|     4581|\n|bacee69c-dcd7-424...|     4581|\n|2a082456-f581-477...|     4581|\n|fda9e03c-d7f6-41c...|     4581|\n|492de681-98dd-4aa...|     4581|\n+--------------------+---------+\nonly showing top 5 rows\n\n"
          ]
        }
      ],
      "metadata": {
        "jupyter": {
          "source_hidden": false,
          "outputs_hidden": false
        },
        "nteract": {
          "transient": {
            "deleting": false
          }
        }
      },
      "source": [
        "product_4581.show(5)"
      ]
    },
    {
      "cell_type": "code",
      "execution_count": 10,
      "outputs": [
        {
          "output_type": "display_data",
          "data": {
            "application/vnd.livy.statement-meta+json": {
              "spark_pool": "SparkPool01",
              "session_id": "7",
              "statement_id": 10,
              "state": "finished",
              "livy_statement_state": "available",
              "queued_time": "2023-01-16T14:20:36.2811282Z",
              "session_start_time": null,
              "execution_start_time": "2023-01-16T14:20:36.416982Z",
              "execution_finish_time": "2023-01-16T14:20:38.3543417Z",
              "spark_jobs": null
            },
            "text/plain": "StatementMeta(SparkPool01, 7, 10, Finished, Available)"
          },
          "metadata": {}
        },
        {
          "output_type": "execute_result",
          "data": {
            "text/plain": "157"
          },
          "execution_count": 23,
          "metadata": {}
        }
      ],
      "metadata": {
        "jupyter": {
          "source_hidden": false,
          "outputs_hidden": false
        },
        "nteract": {
          "transient": {
            "deleting": false
          }
        }
      },
      "source": [
        "product_4581.count()"
      ]
    },
    {
      "cell_type": "code",
      "execution_count": 18,
      "outputs": [
        {
          "output_type": "display_data",
          "data": {
            "application/vnd.livy.statement-meta+json": {
              "spark_pool": "SparkPool01",
              "session_id": "0",
              "statement_id": 18,
              "state": "finished",
              "livy_statement_state": "available",
              "queued_time": "2022-11-27T20:59:54.7317134Z",
              "session_start_time": null,
              "execution_start_time": "2022-11-27T20:59:54.853534Z",
              "execution_finish_time": "2022-11-27T20:59:56.7683539Z",
              "spark_jobs": null
            },
            "text/plain": "StatementMeta(SparkPool01, 0, 18, Finished, Available)"
          },
          "metadata": {}
        },
        {
          "output_type": "stream",
          "name": "stdout",
          "text": [
            "+----------+-----+\n|CustomerId|count|\n+----------+-----+\n|     93545|    3|\n|     95134|    7|\n|     97128|   12|\n|    100227|   12|\n|    100553|   12|\n+----------+-----+\nonly showing top 5 rows\n\n"
          ]
        }
      ],
      "metadata": {
        "jupyter": {
          "source_hidden": false,
          "outputs_hidden": false
        },
        "nteract": {
          "transient": {
            "deleting": false
          }
        },
        "collapsed": false
      },
      "source": [
        "counts_df = df.select(\"ProductId\", \"CustomerId\").groupBy(\"CustomerId\").count()\r\n",
        "counts_df.show(5)"
      ]
    },
    {
      "cell_type": "code",
      "execution_count": 37,
      "outputs": [
        {
          "output_type": "display_data",
          "data": {
            "application/vnd.livy.statement-meta+json": {
              "spark_pool": "SparkPool01",
              "session_id": "0",
              "statement_id": 37,
              "state": "finished",
              "livy_statement_state": "available",
              "queued_time": "2022-11-27T21:11:44.7188489Z",
              "session_start_time": null,
              "execution_start_time": "2022-11-27T21:11:44.8477458Z",
              "execution_finish_time": "2022-11-27T21:11:47.6986601Z",
              "spark_jobs": null
            },
            "text/plain": "StatementMeta(SparkPool01, 0, 37, Finished, Available)"
          },
          "metadata": {}
        },
        {
          "output_type": "execute_result",
          "data": {
            "text/plain": "  CustomerId  count\n0      93545      3\n1      95134      7\n2      97128     12\n3     100227     12\n4     100553     12",
            "text/html": "<div>\n<style scoped>\n    .dataframe tbody tr th:only-of-type {\n        vertical-align: middle;\n    }\n\n    .dataframe tbody tr th {\n        vertical-align: top;\n    }\n\n    .dataframe thead th {\n        text-align: right;\n    }\n</style>\n<table border=\"1\" class=\"dataframe\">\n  <thead>\n    <tr style=\"text-align: right;\">\n      <th></th>\n      <th>CustomerId</th>\n      <th>count</th>\n    </tr>\n  </thead>\n  <tbody>\n    <tr>\n      <th>0</th>\n      <td>93545</td>\n      <td>3</td>\n    </tr>\n    <tr>\n      <th>1</th>\n      <td>95134</td>\n      <td>7</td>\n    </tr>\n    <tr>\n      <th>2</th>\n      <td>97128</td>\n      <td>12</td>\n    </tr>\n    <tr>\n      <th>3</th>\n      <td>100227</td>\n      <td>12</td>\n    </tr>\n    <tr>\n      <th>4</th>\n      <td>100553</td>\n      <td>12</td>\n    </tr>\n  </tbody>\n</table>\n</div>"
          },
          "execution_count": 115,
          "metadata": {}
        }
      ],
      "metadata": {
        "jupyter": {
          "source_hidden": false,
          "outputs_hidden": false
        },
        "nteract": {
          "transient": {
            "deleting": false
          }
        }
      },
      "source": [
        "counts_df_plt = counts_df.toPandas()\r\n",
        "counts_df_plt.head()"
      ]
    },
    {
      "cell_type": "code",
      "execution_count": 41,
      "outputs": [
        {
          "output_type": "display_data",
          "data": {
            "application/vnd.livy.statement-meta+json": {
              "spark_pool": "SparkPool01",
              "session_id": "0",
              "statement_id": 41,
              "state": "finished",
              "livy_statement_state": "available",
              "queued_time": "2022-11-27T21:13:26.3682129Z",
              "session_start_time": null,
              "execution_start_time": "2022-11-27T21:13:26.7736942Z",
              "execution_finish_time": "2022-11-27T21:13:28.6400074Z",
              "spark_jobs": null
            },
            "text/plain": "StatementMeta(SparkPool01, 0, 41, Finished, Available)"
          },
          "metadata": {}
        },
        {
          "output_type": "display_data",
          "data": {
            "text/plain": "<Figure size 432x288 with 0 Axes>"
          },
          "metadata": {}
        },
        {
          "output_type": "display_data",
          "data": {
            "text/plain": "<Figure size 864x576 with 1 Axes>",
            "image/png": "[encoded data removed]"
          },
          "metadata": {
            "needs_background": "light"
          }
        }
      ],
      "metadata": {
        "jupyter": {
          "source_hidden": false,
          "outputs_hidden": false
        },
        "nteract": {
          "transient": {
            "deleting": false
          }
        }
      },
      "source": [
        "from matplotlib import pyplot as plt\r\n",
        "\r\n",
        "# Clear the plot area\r\n",
        "plt.clf()\r\n",
        "\r\n",
        "# Create a Figure\r\n",
        "fig = plt.figure(figsize=(12,8))\r\n",
        "\r\n",
        "# Create a bar plot of product counts by category\r\n",
        "plt.bar(x=counts_df_plt['CustomerId'], height=counts_df_plt['count'], color='orange')\r\n",
        "\r\n",
        "# Customize the chart\r\n",
        "plt.title('Product Counts by Customer Id')\r\n",
        "plt.xlabel('Customer Id')\r\n",
        "plt.ylabel('Count')\r\n",
        "plt.grid(color='#95a5a6', linestyle='--', linewidth=2, axis='y', alpha=0.7)\r\n",
        "plt.xticks(rotation=70)\r\n",
        "\r\n",
        "# Show the plot area\r\n",
        "plt.show()"
      ]
    },
    {
      "cell_type": "code",
      "execution_count": null,
      "outputs": [],
      "metadata": {
        "jupyter": {
          "source_hidden": false,
          "outputs_hidden": false
        },
        "nteract": {
          "transient": {
            "deleting": false
          }
        }
      },
      "source": []
    }
  ]
}